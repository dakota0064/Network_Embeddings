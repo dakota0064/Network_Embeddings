{
 "cells": [
  {
   "cell_type": "code",
   "execution_count": 86,
   "id": "c52657e4",
   "metadata": {},
   "outputs": [],
   "source": [
    "import pickle\n",
    "import pandas as pd\n",
    "import numpy as np\n",
    "import matplotlib.pyplot as plt\n",
    "import random\n",
    "from ast import literal_eval\n",
    "import networkx as nx\n",
    "from tqdm import tqdm\n",
    "from gensim.models import Word2Vec"
   ]
  },
  {
   "cell_type": "markdown",
   "id": "fdac99c5",
   "metadata": {},
   "source": [
    "# -1.0 Build Graph"
   ]
  },
  {
   "cell_type": "code",
   "execution_count": 88,
   "id": "b3354c78",
   "metadata": {},
   "outputs": [
    {
     "name": "stdout",
     "output_type": "stream",
     "text": [
      "Filling in ID numbers...\n"
     ]
    }
   ],
   "source": [
    "import pandas as pd\n",
    "import numpy as np\n",
    "\n",
    "patent_df = pd.read_csv(\"data/apat63_99.txt\", dtype={\"PATENT\": np.int64})\n",
    "patent_df = patent_df.fillna(\"\")\n",
    "\n",
    "\n",
    "cite_df = pd.read_csv(\"data/cite75_99.txt\")\n",
    "cite_df = cite_df.fillna(\"\")\n",
    "\n",
    "patent_num_to_ids = {}\n",
    "edge_rows = set()\n",
    "id_num = 0\n",
    "cap = 300000\n",
    "adjacency_dict = {}\n",
    "\n",
    "seed_connection = cite_df.iloc[1000000]\n",
    "citing = seed_connection[\"CITING\"]\n",
    "cited = seed_connection[\"CITED\"]\n",
    "patent_num_to_ids[citing] = id_num\n",
    "id_num += 1\n",
    "patent_num_to_ids[cited] = id_num\n",
    "id_num += 1\n",
    "\n",
    "while True:\n",
    "    if id_num >= cap:\n",
    "        break\n",
    "    for i, row in cite_df.iterrows():\n",
    "        citing = row[\"CITING\"]\n",
    "        cited = row[\"CITED\"]\n",
    "        if id_num >= cap:\n",
    "            break\n",
    "        if citing not in patent_num_to_ids and cited not in patent_num_to_ids:\n",
    "            # Only take connections that are fully connected to the seeded graph\n",
    "            continue\n",
    "        if citing not in patent_num_to_ids:\n",
    "            patent_num_to_ids[citing] = id_num\n",
    "            id_num += 1\n",
    "        if cited not in patent_num_to_ids:\n",
    "            patent_num_to_ids[cited] = id_num\n",
    "            id_num += 1\n",
    "\n",
    "        citing_id = patent_num_to_ids[citing]\n",
    "        cited_id = patent_num_to_ids[cited]   \n",
    "        if citing_id not in adjacency_dict:\n",
    "            adjacency_dict[citing_id] = [cited_id]\n",
    "        else:\n",
    "            adjacency_dict[citing_id].append(cited_id)\n",
    "\n",
    "# Final pass to make sure all edges make it\n",
    "for i, row in cite_df.iterrows():\n",
    "    citing = row[\"CITING\"]\n",
    "    cited = row[\"CITED\"]\n",
    "\n",
    "    if citing not in patent_num_to_ids or cited not in patent_num_to_ids:\n",
    "        # Only take connections that are fully connected to the seeded graph\n",
    "        continue\n",
    "\n",
    "    citing_id = patent_num_to_ids[citing]\n",
    "    cited_id = patent_num_to_ids[cited]   \n",
    "    if citing_id not in adjacency_dict:\n",
    "        adjacency_dict[citing_id] = [cited_id]\n",
    "    else:\n",
    "        adjacency_dict[citing_id].append(cited_id)\n",
    "\n",
    "# print(\"Saving edges...\")\n",
    "# print(len(edge_rows))\n",
    "# save_df = pd.DataFrame(edge_rows, columns=['node_1', 'node_2'])\n",
    "# save_df.to_csv(\"patent_edges.csv\", index=False)\n",
    "\n",
    "#patent_df[\"id\"] = -1\n",
    "print(\"Filling in ID numbers...\")\n",
    "patent_df['id'] = patent_df['PATENT'].apply(lambda x: patent_num_to_ids[x] if x in patent_num_to_ids else -1)\n",
    "\n",
    "patent_df.to_csv(\"patent_data_with_ids.csv\", index=False)"
   ]
  },
  {
   "cell_type": "markdown",
   "id": "7d8e8c20",
   "metadata": {},
   "source": [
    "# 0. Compute Embeddings (GraphVite)"
   ]
  },
  {
   "cell_type": "code",
   "execution_count": 5,
   "id": "e1753059",
   "metadata": {},
   "outputs": [],
   "source": [
    "# import graphvite as gv\n",
    "# import graphvite.application as gap"
   ]
  },
  {
   "cell_type": "code",
   "execution_count": 9,
   "id": "33cf04f1",
   "metadata": {},
   "outputs": [
    {
     "name": "stdout",
     "output_type": "stream",
     "text": [
      "   node_1  node_2\n",
      "0    2783    2620\n",
      "1  288671  128075\n",
      "2   58918   61033\n",
      "3  200952  188200\n",
      "4   58582   36429\n"
     ]
    }
   ],
   "source": [
    "edge_list = pd.read_csv(\"data/patent_edges.csv\")\n",
    "#edge_list.rename(columns = {0:'source', 1: 'target'}, inplace = True)\n",
    "print(edge_list.head())"
   ]
  },
  {
   "cell_type": "code",
   "execution_count": 10,
   "id": "68c90d9f",
   "metadata": {},
   "outputs": [
    {
     "data": {
      "text/plain": [
       "'Graph with 300000 nodes and 795677 edges'"
      ]
     },
     "execution_count": 10,
     "metadata": {},
     "output_type": "execute_result"
    }
   ],
   "source": [
    "# convert integers into string\n",
    "edge_list = edge_list.applymap(str)\n",
    "# create undirected graph from the edgelist\n",
    "G=nx.from_pandas_edgelist(edge_list, source='node_1', target='node_2', create_using=nx.Graph())\n",
    "# check the basic properties of the graph\n",
    "nx.info(G)"
   ]
  },
  {
   "cell_type": "code",
   "execution_count": 67,
   "id": "17641f58",
   "metadata": {},
   "outputs": [],
   "source": [
    "with open(\"data/patent_embeddings.pkl\", 'rb') as pkl_file:\n",
    "    embeddings = pickle.load(pkl_file)\n",
    "    \n",
    "with open('data/names_to_node_ids.pkl', 'rb') as pkl_file:\n",
    "    name_to_id_map = dict(pickle.load(pkl_file))\n",
    "\n",
    "id_to_name_map = {}\n",
    "for key, value in name_to_id_map.items():\n",
    "    id_to_name_map[value] = key"
   ]
  },
  {
   "cell_type": "code",
   "execution_count": 11,
   "id": "baf07257",
   "metadata": {},
   "outputs": [],
   "source": [
    "# function to generate random walk sequences of nodes for a particular node\n",
    "def get_random_walk(node, walk_length):\n",
    "    # initialization\n",
    "    random_walk_length = [node]\n",
    "    \n",
    "    #loop over to get the nodes visited in a random walk\n",
    "    for i in range(walk_length-1):\n",
    "        # list of neighbors\n",
    "        neighbors = list(G.neighbors(node))\n",
    "        # if the same neighbors are present in ranom_walk_length list, then donot add them as new neighbors\n",
    "        neighbors = list(set(neighbors) - set(random_walk_length))    \n",
    "        if len(neighbors) == 0:\n",
    "            break\n",
    "        # pick any one neighbor randomly from the neighbors list\n",
    "        random_neighbor = random.choice(neighbors)\n",
    "        # append that random_neighbor to the random_walk_length list\n",
    "        random_walk_length.append(random_neighbor)\n",
    "        node = random_neighbor\n",
    "        \n",
    "    return random_walk_length"
   ]
  },
  {
   "cell_type": "code",
   "execution_count": 12,
   "id": "c9034b97",
   "metadata": {},
   "outputs": [
    {
     "data": {
      "text/plain": [
       "['2', '9', '6', '0', '1', '6981', '1310', '1314', '837', '72734']"
      ]
     },
     "execution_count": 12,
     "metadata": {},
     "output_type": "execute_result"
    }
   ],
   "source": [
    "# check random walk for node '2'\n",
    "get_random_walk('2', 10)"
   ]
  },
  {
   "cell_type": "code",
   "execution_count": 17,
   "id": "b966d1a8",
   "metadata": {},
   "outputs": [
    {
     "name": "stderr",
     "output_type": "stream",
     "text": [
      "100%|██████████| 300000/300000 [00:50<00:00, 5892.90it/s]\n"
     ]
    }
   ],
   "source": [
    "# calculate random walks for every node in the Graph\n",
    "all_nodes = list(G.nodes())\n",
    "number_of_random_walks = 5\n",
    "random_walks = []\n",
    "\n",
    "for node in tqdm(all_nodes):\n",
    "    # number of random walks\n",
    "    for i in range(number_of_random_walks):\n",
    "        # append the random walk sequence of a node from a specified length\n",
    "        random_walks.append(get_random_walk(node, 10))"
   ]
  },
  {
   "cell_type": "code",
   "execution_count": 20,
   "id": "8114a104",
   "metadata": {},
   "outputs": [],
   "source": [
    "# train word2vec model\n",
    "model = Word2Vec(window = 4, sg = 1, hs = 0,\n",
    "                 negative = 10, # for negative sampling\n",
    "                 alpha=0.03, min_alpha=0.0007,\n",
    "    )\n",
    "\n",
    "model.build_vocab(random_walks, progress_per=2)"
   ]
  },
  {
   "cell_type": "code",
   "execution_count": 21,
   "id": "cdea750c",
   "metadata": {},
   "outputs": [
    {
     "data": {
      "text/plain": [
       "(263576440, 263576440)"
      ]
     },
     "execution_count": 21,
     "metadata": {},
     "output_type": "execute_result"
    }
   ],
   "source": [
    "model.train(random_walks, total_examples = model.corpus_count, epochs=20, report_delay=1)"
   ]
  },
  {
   "cell_type": "code",
   "execution_count": 25,
   "id": "14a43f23",
   "metadata": {},
   "outputs": [],
   "source": [
    "numbers = list(G.nodes)\n",
    "embeddings = list(model.wv[numbers])"
   ]
  },
  {
   "cell_type": "code",
   "execution_count": 68,
   "id": "281dbd09",
   "metadata": {},
   "outputs": [],
   "source": [
    "# year = GYEAR\n",
    "# category = CAT\n",
    "# country = COUNTRY\n",
    "# Assignee Code = ASSCODE\n",
    "# 3. The Assignee type code is a one-character code having the following meaning:\n",
    "\n",
    "#      1    = unassigned\n",
    "#      2    = assigned to a U.S. nongovernment organization\n",
    "#      3    = assigned to a non-U.S., nongovernment organization\n",
    "#      4    = assigned to a U.S. individual\n",
    "#      5    = assigned to a non-U.S. individual\n",
    "#      6    = assigned to the U.S. (Federal) Government\n",
    "#      7    = assigned to a non-U.S. government\n",
    "#      8,9  = assigned to a U.S. non-Federal Government agency (do not appear in the dataset)"
   ]
  },
  {
   "cell_type": "markdown",
   "id": "85958a36",
   "metadata": {},
   "source": [
    "# 0.1 Node2Vec Embeddings"
   ]
  },
  {
   "cell_type": "code",
   "execution_count": 70,
   "id": "e9d9fcde",
   "metadata": {},
   "outputs": [
    {
     "name": "stdout",
     "output_type": "stream",
     "text": [
      "795677\n",
      "300000\n",
      "Fitting Node2Vec model...\n"
     ]
    },
    {
     "ename": "KeyboardInterrupt",
     "evalue": "",
     "output_type": "error",
     "traceback": [
      "\u001b[0;31m---------------------------------------------------------------------------\u001b[0m",
      "\u001b[0;31mKeyboardInterrupt\u001b[0m                         Traceback (most recent call last)",
      "\u001b[0;32m/tmp/ipykernel_2900/20082812.py\u001b[0m in \u001b[0;36m<module>\u001b[0;34m\u001b[0m\n\u001b[1;32m     12\u001b[0m \u001b[0mprint\u001b[0m\u001b[0;34m(\u001b[0m\u001b[0;34m\"Fitting Node2Vec model...\"\u001b[0m\u001b[0;34m)\u001b[0m\u001b[0;34m\u001b[0m\u001b[0;34m\u001b[0m\u001b[0m\n\u001b[1;32m     13\u001b[0m \u001b[0mmodel\u001b[0m \u001b[0;34m=\u001b[0m \u001b[0mNode2Vec\u001b[0m\u001b[0;34m(\u001b[0m\u001b[0;34m)\u001b[0m\u001b[0;34m\u001b[0m\u001b[0;34m\u001b[0m\u001b[0m\n\u001b[0;32m---> 14\u001b[0;31m \u001b[0mmodel\u001b[0m\u001b[0;34m.\u001b[0m\u001b[0mfit\u001b[0m\u001b[0;34m(\u001b[0m\u001b[0mG\u001b[0m\u001b[0;34m)\u001b[0m\u001b[0;34m\u001b[0m\u001b[0;34m\u001b[0m\u001b[0m\n\u001b[0m\u001b[1;32m     15\u001b[0m \u001b[0membeddings\u001b[0m \u001b[0;34m=\u001b[0m \u001b[0mmodel\u001b[0m\u001b[0;34m.\u001b[0m\u001b[0mget_embedding\u001b[0m\u001b[0;34m(\u001b[0m\u001b[0;34m)\u001b[0m\u001b[0;34m\u001b[0m\u001b[0;34m\u001b[0m\u001b[0m\n",
      "\u001b[0;32m~/anaconda3/envs/dakota_py/lib/python3.7/site-packages/karateclub/node_embedding/neighbourhood/node2vec.py\u001b[0m in \u001b[0;36mfit\u001b[0;34m(self, graph)\u001b[0m\n\u001b[1;32m     69\u001b[0m         \u001b[0mgraph\u001b[0m \u001b[0;34m=\u001b[0m \u001b[0mself\u001b[0m\u001b[0;34m.\u001b[0m\u001b[0m_check_graph\u001b[0m\u001b[0;34m(\u001b[0m\u001b[0mgraph\u001b[0m\u001b[0;34m)\u001b[0m\u001b[0;34m\u001b[0m\u001b[0;34m\u001b[0m\u001b[0m\n\u001b[1;32m     70\u001b[0m         \u001b[0mwalker\u001b[0m \u001b[0;34m=\u001b[0m \u001b[0mBiasedRandomWalker\u001b[0m\u001b[0;34m(\u001b[0m\u001b[0mself\u001b[0m\u001b[0;34m.\u001b[0m\u001b[0mwalk_length\u001b[0m\u001b[0;34m,\u001b[0m \u001b[0mself\u001b[0m\u001b[0;34m.\u001b[0m\u001b[0mwalk_number\u001b[0m\u001b[0;34m,\u001b[0m \u001b[0mself\u001b[0m\u001b[0;34m.\u001b[0m\u001b[0mp\u001b[0m\u001b[0;34m,\u001b[0m \u001b[0mself\u001b[0m\u001b[0;34m.\u001b[0m\u001b[0mq\u001b[0m\u001b[0;34m)\u001b[0m\u001b[0;34m\u001b[0m\u001b[0;34m\u001b[0m\u001b[0m\n\u001b[0;32m---> 71\u001b[0;31m         \u001b[0mwalker\u001b[0m\u001b[0;34m.\u001b[0m\u001b[0mdo_walks\u001b[0m\u001b[0;34m(\u001b[0m\u001b[0mgraph\u001b[0m\u001b[0;34m)\u001b[0m\u001b[0;34m\u001b[0m\u001b[0;34m\u001b[0m\u001b[0m\n\u001b[0m\u001b[1;32m     72\u001b[0m \u001b[0;34m\u001b[0m\u001b[0m\n\u001b[1;32m     73\u001b[0m         model = Word2Vec(\n",
      "\u001b[0;32m~/anaconda3/envs/dakota_py/lib/python3.7/site-packages/karateclub/utils/walker.py\u001b[0m in \u001b[0;36mdo_walks\u001b[0;34m(self, graph)\u001b[0m\n\u001b[1;32m    179\u001b[0m         \u001b[0;32mfor\u001b[0m \u001b[0mnode\u001b[0m \u001b[0;32min\u001b[0m \u001b[0mself\u001b[0m\u001b[0;34m.\u001b[0m\u001b[0mgraph\u001b[0m\u001b[0;34m.\u001b[0m\u001b[0mnodes\u001b[0m\u001b[0;34m(\u001b[0m\u001b[0;34m)\u001b[0m\u001b[0;34m:\u001b[0m\u001b[0;34m\u001b[0m\u001b[0;34m\u001b[0m\u001b[0m\n\u001b[1;32m    180\u001b[0m             \u001b[0;32mfor\u001b[0m \u001b[0m_\u001b[0m \u001b[0;32min\u001b[0m \u001b[0mrange\u001b[0m\u001b[0;34m(\u001b[0m\u001b[0mself\u001b[0m\u001b[0;34m.\u001b[0m\u001b[0mwalk_number\u001b[0m\u001b[0;34m)\u001b[0m\u001b[0;34m:\u001b[0m\u001b[0;34m\u001b[0m\u001b[0;34m\u001b[0m\u001b[0m\n\u001b[0;32m--> 181\u001b[0;31m                 \u001b[0mwalk_from_node\u001b[0m \u001b[0;34m=\u001b[0m \u001b[0mself\u001b[0m\u001b[0;34m.\u001b[0m\u001b[0mdo_walk\u001b[0m\u001b[0;34m(\u001b[0m\u001b[0mnode\u001b[0m\u001b[0;34m)\u001b[0m\u001b[0;34m\u001b[0m\u001b[0;34m\u001b[0m\u001b[0m\n\u001b[0m\u001b[1;32m    182\u001b[0m                 \u001b[0mself\u001b[0m\u001b[0;34m.\u001b[0m\u001b[0mwalks\u001b[0m\u001b[0;34m.\u001b[0m\u001b[0mappend\u001b[0m\u001b[0;34m(\u001b[0m\u001b[0mwalk_from_node\u001b[0m\u001b[0;34m)\u001b[0m\u001b[0;34m\u001b[0m\u001b[0;34m\u001b[0m\u001b[0m\n",
      "\u001b[0;32m~/anaconda3/envs/dakota_py/lib/python3.7/site-packages/karateclub/utils/walker.py\u001b[0m in \u001b[0;36mdo_walk\u001b[0;34m(self, node)\u001b[0m\n\u001b[1;32m    149\u001b[0m                     \u001b[0mnp\u001b[0m\u001b[0;34m.\u001b[0m\u001b[0misin\u001b[0m\u001b[0;34m(\u001b[0m\u001b[0mcurrent_node_neighbors\u001b[0m\u001b[0;34m,\u001b[0m \u001b[0mprevious_node_neighbors\u001b[0m\u001b[0;34m)\u001b[0m\u001b[0;34m,\u001b[0m\u001b[0;34m\u001b[0m\u001b[0;34m\u001b[0m\u001b[0m\n\u001b[1;32m    150\u001b[0m                 ],\n\u001b[0;32m--> 151\u001b[0;31m                 \u001b[0;34m[\u001b[0m\u001b[0;32mlambda\u001b[0m \u001b[0mw\u001b[0m\u001b[0;34m:\u001b[0m \u001b[0mw\u001b[0m \u001b[0;34m/\u001b[0m \u001b[0mself\u001b[0m\u001b[0;34m.\u001b[0m\u001b[0mp\u001b[0m\u001b[0;34m,\u001b[0m \u001b[0;32mlambda\u001b[0m \u001b[0mw\u001b[0m\u001b[0;34m:\u001b[0m \u001b[0mw\u001b[0m \u001b[0;34m/\u001b[0m \u001b[0;36m1\u001b[0m\u001b[0;34m,\u001b[0m \u001b[0;32mlambda\u001b[0m \u001b[0mw\u001b[0m\u001b[0;34m:\u001b[0m \u001b[0mw\u001b[0m \u001b[0;34m/\u001b[0m \u001b[0mself\u001b[0m\u001b[0;34m.\u001b[0m\u001b[0mq\u001b[0m\u001b[0;34m]\u001b[0m\u001b[0;34m,\u001b[0m\u001b[0;34m\u001b[0m\u001b[0;34m\u001b[0m\u001b[0m\n\u001b[0m\u001b[1;32m    152\u001b[0m             )\n\u001b[1;32m    153\u001b[0m \u001b[0;34m\u001b[0m\u001b[0m\n",
      "\u001b[0;32m<__array_function__ internals>\u001b[0m in \u001b[0;36mpiecewise\u001b[0;34m(*args, **kwargs)\u001b[0m\n",
      "\u001b[0;32m~/anaconda3/envs/dakota_py/lib/python3.7/site-packages/numpy/lib/function_base.py\u001b[0m in \u001b[0;36mpiecewise\u001b[0;34m(x, condlist, funclist, *args, **kw)\u001b[0m\n\u001b[1;32m    599\u001b[0m     \u001b[0;32mif\u001b[0m \u001b[0mn\u001b[0m \u001b[0;34m==\u001b[0m \u001b[0mn2\u001b[0m \u001b[0;34m-\u001b[0m \u001b[0;36m1\u001b[0m\u001b[0;34m:\u001b[0m  \u001b[0;31m# compute the \"otherwise\" condition.\u001b[0m\u001b[0;34m\u001b[0m\u001b[0;34m\u001b[0m\u001b[0m\n\u001b[1;32m    600\u001b[0m         \u001b[0mcondelse\u001b[0m \u001b[0;34m=\u001b[0m \u001b[0;34m~\u001b[0m\u001b[0mnp\u001b[0m\u001b[0;34m.\u001b[0m\u001b[0many\u001b[0m\u001b[0;34m(\u001b[0m\u001b[0mcondlist\u001b[0m\u001b[0;34m,\u001b[0m \u001b[0maxis\u001b[0m\u001b[0;34m=\u001b[0m\u001b[0;36m0\u001b[0m\u001b[0;34m,\u001b[0m \u001b[0mkeepdims\u001b[0m\u001b[0;34m=\u001b[0m\u001b[0;32mTrue\u001b[0m\u001b[0;34m)\u001b[0m\u001b[0;34m\u001b[0m\u001b[0;34m\u001b[0m\u001b[0m\n\u001b[0;32m--> 601\u001b[0;31m         \u001b[0mcondlist\u001b[0m \u001b[0;34m=\u001b[0m \u001b[0mnp\u001b[0m\u001b[0;34m.\u001b[0m\u001b[0mconcatenate\u001b[0m\u001b[0;34m(\u001b[0m\u001b[0;34m[\u001b[0m\u001b[0mcondlist\u001b[0m\u001b[0;34m,\u001b[0m \u001b[0mcondelse\u001b[0m\u001b[0;34m]\u001b[0m\u001b[0;34m,\u001b[0m \u001b[0maxis\u001b[0m\u001b[0;34m=\u001b[0m\u001b[0;36m0\u001b[0m\u001b[0;34m)\u001b[0m\u001b[0;34m\u001b[0m\u001b[0;34m\u001b[0m\u001b[0m\n\u001b[0m\u001b[1;32m    602\u001b[0m         \u001b[0mn\u001b[0m \u001b[0;34m+=\u001b[0m \u001b[0;36m1\u001b[0m\u001b[0;34m\u001b[0m\u001b[0;34m\u001b[0m\u001b[0m\n\u001b[1;32m    603\u001b[0m     \u001b[0;32melif\u001b[0m \u001b[0mn\u001b[0m \u001b[0;34m!=\u001b[0m \u001b[0mn2\u001b[0m\u001b[0;34m:\u001b[0m\u001b[0;34m\u001b[0m\u001b[0;34m\u001b[0m\u001b[0m\n",
      "\u001b[0;32m<__array_function__ internals>\u001b[0m in \u001b[0;36mconcatenate\u001b[0;34m(*args, **kwargs)\u001b[0m\n",
      "\u001b[0;31mKeyboardInterrupt\u001b[0m: "
     ]
    }
   ],
   "source": [
    "import networkx as nx\n",
    "import pandas as pd\n",
    "from karateclub import DeepWalk, Node2Vec\n",
    "import pickle\n",
    "\n",
    "df = pd.read_csv(\"data/patent_edges.csv\", dtype={'node_1': int, 'node_2': int})\n",
    "print(len(df))\n",
    "\n",
    "G = nx.from_pandas_edgelist(df, 'node_1', 'node_2', create_using=nx.DiGraph())\n",
    "print(len(G))\n",
    "\n",
    "print(\"Fitting Node2Vec model...\")\n",
    "model = Node2Vec()\n",
    "model.fit(G)\n",
    "embeddings = model.get_embedding()"
   ]
  },
  {
   "cell_type": "markdown",
   "id": "9291fa58",
   "metadata": {},
   "source": [
    "# 0.2 DeepWalk Embeddings"
   ]
  },
  {
   "cell_type": "code",
   "execution_count": 89,
   "id": "c3df97e5",
   "metadata": {},
   "outputs": [
    {
     "name": "stdout",
     "output_type": "stream",
     "text": [
      "True\n",
      "300000\n",
      "Fitting Deepwalk model...\n"
     ]
    },
    {
     "ename": "TypeError",
     "evalue": "'tuple' object is not callable",
     "output_type": "error",
     "traceback": [
      "\u001b[0;31m---------------------------------------------------------------------------\u001b[0m",
      "\u001b[0;31mTypeError\u001b[0m                                 Traceback (most recent call last)",
      "\u001b[0;32m/tmp/ipykernel_2900/3852768608.py\u001b[0m in \u001b[0;36m<module>\u001b[0;34m\u001b[0m\n\u001b[1;32m     15\u001b[0m \u001b[0mmodel\u001b[0m\u001b[0;34m.\u001b[0m\u001b[0mfit\u001b[0m\u001b[0;34m(\u001b[0m\u001b[0mG\u001b[0m\u001b[0;34m)\u001b[0m\u001b[0;34m\u001b[0m\u001b[0;34m\u001b[0m\u001b[0m\n\u001b[1;32m     16\u001b[0m \u001b[0membeddings\u001b[0m \u001b[0;34m=\u001b[0m \u001b[0mmodel\u001b[0m\u001b[0;34m.\u001b[0m\u001b[0mget_embedding\u001b[0m\u001b[0;34m(\u001b[0m\u001b[0;34m)\u001b[0m\u001b[0;34m\u001b[0m\u001b[0;34m\u001b[0m\u001b[0m\n\u001b[0;32m---> 17\u001b[0;31m \u001b[0mprint\u001b[0m\u001b[0;34m(\u001b[0m\u001b[0membeddings\u001b[0m\u001b[0;34m.\u001b[0m\u001b[0mshape\u001b[0m\u001b[0;34m(\u001b[0m\u001b[0;34m)\u001b[0m\u001b[0;34m)\u001b[0m\u001b[0;34m\u001b[0m\u001b[0;34m\u001b[0m\u001b[0m\n\u001b[0m",
      "\u001b[0;31mTypeError\u001b[0m: 'tuple' object is not callable"
     ]
    }
   ],
   "source": [
    "import networkx as nx\n",
    "import pandas as pd\n",
    "from karateclub import DeepWalk, Node2Vec\n",
    "import pickle\n",
    "\n",
    "#edge_list = pd.read_csv(\"data/patent_edges.csv\")\n",
    "#edge_list = edge_list.applymap(str)\n",
    "G=nx.DiGraph(adjacency_dict)\n",
    "#G=nx.from_pandas_edgelist(edge_list, source='node_1', target='node_2', create_using=nx.DiGraph())\n",
    "print(G.is_directed())\n",
    "print(len(G))\n",
    "\n",
    "print(\"Fitting Deepwalk model...\")\n",
    "model = DeepWalk(walk_length=10, dimensions=32, window_size=4)\n",
    "model.fit(G)\n",
    "embeddings = model.get_embedding()"
   ]
  },
  {
   "cell_type": "markdown",
   "id": "36b0b2e5",
   "metadata": {},
   "source": [
    "# 1.0 Data Prep"
   ]
  },
  {
   "cell_type": "code",
   "execution_count": 90,
   "id": "00c64c71",
   "metadata": {},
   "outputs": [
    {
     "name": "stdout",
     "output_type": "stream",
     "text": [
      "299610\n"
     ]
    }
   ],
   "source": [
    "df = pd.read_csv(\"data/patent_data_with_ids.csv\", index_col=False)\n",
    "df = df[df['id'] != -1]\n",
    "df = df.sort_values(by=['id'])\n",
    "print(len(df))"
   ]
  },
  {
   "cell_type": "code",
   "execution_count": 91,
   "id": "ce5dea71",
   "metadata": {},
   "outputs": [],
   "source": [
    "embedding_list = []\n",
    "\n",
    "category_list = []\n",
    "country_list = []\n",
    "binary_country_list = []\n",
    "assignee_list = []\n",
    "year_list = []\n",
    "\n",
    "\n",
    "for i, row in df.iterrows():\n",
    "    id_num = row['id']\n",
    "    embedding_list.append(embeddings[id_num])\n",
    "    category_list.append(row['CAT'])\n",
    "    country_list.append(row['COUNTRY'])\n",
    "    if row['COUNTRY'] == 'US':\n",
    "        binary_country_list.append(0)\n",
    "    else:\n",
    "        binary_country_list.append(1)\n",
    "    assignee_list.append(row['ASSCODE'])\n",
    "    year_list.append(row['GYEAR'])"
   ]
  },
  {
   "cell_type": "code",
   "execution_count": 92,
   "id": "91b4e2c8",
   "metadata": {},
   "outputs": [
    {
     "name": "stdout",
     "output_type": "stream",
     "text": [
      "(299610, 6)\n",
      "[[1. 0. 0. 0. 0. 0.]\n",
      " [0. 0. 0. 0. 1. 0.]\n",
      " [1. 0. 0. 0. 0. 0.]\n",
      " ...\n",
      " [0. 1. 0. 0. 0. 0.]\n",
      " [0. 1. 0. 0. 0. 0.]\n",
      " [0. 1. 0. 0. 0. 0.]]\n"
     ]
    }
   ],
   "source": [
    "from sklearn.preprocessing import OneHotEncoder\n",
    "\n",
    "enc = OneHotEncoder()\n",
    "label_array = np.array(category_list).reshape(-1, 1)\n",
    "enc.fit(label_array)\n",
    "encoded = enc.transform(label_array).toarray()\n",
    "print(encoded.shape)\n",
    "print(encoded)"
   ]
  },
  {
   "cell_type": "code",
   "execution_count": 93,
   "id": "b333c4c7",
   "metadata": {},
   "outputs": [],
   "source": [
    "from sklearn.model_selection import train_test_split\n",
    "from sklearn.preprocessing import StandardScaler\n",
    "from sklearn.ensemble import RandomForestClassifier"
   ]
  },
  {
   "cell_type": "code",
   "execution_count": 94,
   "id": "ef37b99b",
   "metadata": {},
   "outputs": [],
   "source": [
    "#x_train, x_test, y_train, y_test = train_test_split(embedding_list, encoded, test_size=0.2, random_state=21)\n",
    "x_train, x_test, y_train, y_test = train_test_split(embedding_list, binary_country_list, test_size=0.2, random_state=21)"
   ]
  },
  {
   "cell_type": "code",
   "execution_count": 95,
   "id": "5df7b5bb",
   "metadata": {},
   "outputs": [],
   "source": [
    "scaler = StandardScaler()\n",
    "x_train = scaler.fit_transform(x_train)\n",
    "x_test = scaler.transform(x_test)"
   ]
  },
  {
   "cell_type": "code",
   "execution_count": 96,
   "id": "ccdf904c",
   "metadata": {},
   "outputs": [
    {
     "name": "stdout",
     "output_type": "stream",
     "text": [
      "[[-1.58568351e-02 -2.70832748e+00 -3.16555554e-01  3.16182426e-01\n",
      "  -2.70953569e+00  5.96758685e-02  4.93076326e-01  1.24301492e+00\n",
      "   2.39017681e-01 -1.67994700e+00  7.27793832e-01  7.68271630e-01\n",
      "   3.65124288e-01 -1.11328929e+00 -1.09892861e+00 -6.65144417e-01\n",
      "   3.24715300e-02  7.76537506e-01 -2.09135628e-02  6.45926129e-01\n",
      "   1.89796660e-01  1.46688595e-01 -3.67241159e-01 -9.68897761e-01\n",
      "  -3.54491382e-01  6.11716515e-01 -1.19033051e-01 -3.60793962e-01\n",
      "   7.12082817e-01 -7.96215519e-01  2.69770611e-01  4.80311114e-01]\n",
      " [ 5.82952577e-02  4.93403373e-01  7.57725372e-02  1.13790132e-01\n",
      "  -4.75421946e-01  4.42620530e-01 -2.11507146e-01  8.35724587e-01\n",
      "  -4.73989128e-01 -1.03572686e-01 -2.48149861e-01  2.01248737e-01\n",
      "  -1.11791134e-02 -3.88569913e-01  1.91792081e-01 -2.88217486e-01\n",
      "  -1.78046860e-01 -1.00213386e-01 -3.33667303e-02 -3.69168139e-01\n",
      "   5.40124102e-01 -2.43781920e-01  2.38695905e-01  1.88946582e-01\n",
      "  -1.79509103e-01  4.97302039e-01 -1.52231223e-01 -3.88140550e-01\n",
      "   4.98543379e-01  2.82108842e-01  7.72500997e-01  6.51059491e-01]\n",
      " [-2.94716048e-01 -2.87889430e-01 -1.49595280e+00  8.45384364e-01\n",
      "   6.73972695e-01  5.67981472e-01 -7.19406605e-01 -9.04305002e-01\n",
      "  -4.39876423e-01  2.75383426e-01 -1.06620513e+00 -2.17596646e-01\n",
      "  -4.28346800e-02 -1.46676257e-01  9.19249826e-01 -4.72729289e-01\n",
      "   6.30867070e-01  3.05455031e-01 -1.85408498e-02  3.12540837e-01\n",
      "  -2.20885600e-01  1.00522861e+00  7.87115649e-02  2.87466779e-02\n",
      "   3.99805239e-01  1.96044397e+00 -8.06666088e-01 -2.99501444e-01\n",
      "   6.76890245e-01 -1.96612269e-02  1.54906652e+00  1.07551272e-02]\n",
      " [-2.07708345e-01  6.21120987e-01 -4.31266337e-01  3.96206466e-02\n",
      "  -5.67099297e-01  3.37605682e-01  1.67433761e-01  2.10390126e-02\n",
      "  -6.56446712e-02  1.56709197e-01 -3.70807628e-02  9.36378322e-01\n",
      "   1.26305003e-03 -3.47316416e-01  4.54814228e-01 -2.74486194e-01\n",
      "   8.11897965e-01 -4.83964074e-01  4.61376880e-01  7.25661189e-01\n",
      "   8.13934987e-02  1.74267689e-01 -2.28895858e-01  2.65150263e-01\n",
      "   3.15368849e-01  1.33460378e-01  3.91593737e-01 -5.45785068e-02\n",
      "  -1.57509203e-01  2.46383650e-01 -1.13248928e-01  4.98694450e-01]\n",
      " [ 1.40098713e-01  3.27919026e-01 -3.39877318e-01  1.90901416e-01\n",
      "  -3.32423091e-01  3.36091051e-01  1.81858613e-01  4.94187437e-01\n",
      "  -3.51184142e-01 -2.50638457e-01 -4.01544055e-03  1.87610897e-01\n",
      "  -1.99204286e-01  3.40819397e-01  7.22484998e-01 -2.86621367e-01\n",
      "  -6.45737556e-02  7.94547292e-02  3.98572717e-01 -2.86692895e-01\n",
      "   3.91275194e-01  8.18263688e-03  5.06801537e-02  4.38766602e-01\n",
      "   2.95274416e-01  4.33308559e-01  1.66812649e-01 -4.42092825e-01\n",
      "   3.77844503e-01  3.57374556e-01 -1.75130253e-01  4.00960912e-01]\n",
      " [ 3.99315878e-01 -2.11101200e-01  3.60537696e-01  2.18965514e-01\n",
      "  -5.04734382e-01 -5.24675162e-01  4.55397170e-02  1.74444861e-01\n",
      "  -1.34127567e-01  5.33348527e-01  1.93898509e-02 -4.59404673e-01\n",
      "   9.08835896e-02 -2.30346443e-01  5.68961423e-01 -7.47050339e-01\n",
      "   1.66348500e-01 -1.36567120e-01  2.27513582e-02  1.18954851e-01\n",
      "   8.65852070e-01  2.53513783e-01  1.88370904e-01  6.61665104e-01\n",
      "  -1.40703090e-01  5.29643362e-01 -5.22019483e-01  4.17800947e-01\n",
      "   2.72438684e-01  2.36171684e-01 -4.04098076e-01 -2.56840341e-01]\n",
      " [-2.64867188e-01 -1.27283499e-01 -4.10089084e-02  4.52892410e-01\n",
      "   2.25326424e-03  2.45243129e-01 -4.82855975e-01  3.16487195e-01\n",
      "  -2.67400726e-01  3.34148538e-03  5.81446951e-02 -1.16551711e-01\n",
      "  -5.47997883e-01  1.97083700e-01  2.06832426e-01 -8.51054927e-01\n",
      "   6.03094424e-01 -1.94766139e-01  9.97776274e-02 -7.14526020e-01\n",
      "  -8.89571707e-02  4.40497731e-01 -7.24126137e-01  2.62096326e-01\n",
      "  -3.64454817e-01  4.15326859e-02 -3.80470356e-01 -2.10911855e-01\n",
      "  -9.00049977e-02 -2.55198958e-02 -6.25361325e-01  1.54200480e-01]\n",
      " [-1.39146318e+00 -3.59085462e+00  2.44196850e-01 -9.28669543e-01\n",
      "   1.50190000e+00  1.50560839e+00  2.62276057e-01  1.02185985e+00\n",
      "  -1.83436141e+00 -8.13321090e-01 -3.60723479e+00 -1.47382870e+00\n",
      "   4.54398965e-01 -2.24244901e+00 -1.75340290e+00  8.03397519e-01\n",
      "  -9.05918209e-01 -5.54257250e-01 -2.05541117e+00 -1.82844521e+00\n",
      "  -1.28869594e-01  3.78292524e+00  2.00266483e+00  5.12007066e-01\n",
      "   1.99757895e+00 -2.75012715e+00 -1.14034825e+00  3.18681020e+00\n",
      "   8.80098987e-01 -1.69547346e+00  2.14023118e+00  1.89969762e-01]\n",
      " [-3.23329803e-01  5.67502430e-01 -3.70426197e-01  2.19463973e-01\n",
      "   3.79649829e-01  1.26564941e-01  2.48135624e-01  7.43621429e-01\n",
      "  -1.34488026e-01  3.54704927e-01 -5.10524165e-02  4.58447985e-01\n",
      "  -2.56342561e-01 -3.23063586e-01  8.89753158e-01  4.45798525e-02\n",
      "   2.36037879e-01 -2.41415492e-02  2.60500796e-01 -5.43255544e-02\n",
      "   1.63213995e-01  1.61410807e-01  5.57264755e-02  1.82025677e-01\n",
      "  -1.42557015e-01  3.01198631e-01  1.30507660e-01  2.17701701e-02\n",
      "  -2.41764667e-01  3.11090575e-01 -2.03564462e-01  2.51372839e-01]\n",
      " [ 1.12409795e-01 -4.92147138e-01 -4.78473261e-02  2.38398594e-01\n",
      "  -3.94227073e-01 -1.64112456e-01 -7.91590123e-01  5.26162136e-01\n",
      "   4.30772265e-01  1.77827912e-01  4.18077445e-01  3.07204529e-01\n",
      "  -6.38764655e-01  2.58901772e-01 -2.48800642e-01  4.73198838e-01\n",
      "   1.31490433e-01  4.19047931e-01 -3.66806406e-01  6.13773186e-01\n",
      "   3.09279186e-01  6.04903320e-01  8.74213251e-02  3.87626979e-01\n",
      "  -3.60138181e-01 -5.21332015e-01  1.22346344e-01  1.92196398e-01\n",
      "  -7.19766112e-01 -5.74113521e-01 -1.11754794e+00 -4.09756857e-01]]\n"
     ]
    }
   ],
   "source": [
    "print(x_train[:10])"
   ]
  },
  {
   "cell_type": "code",
   "execution_count": 97,
   "id": "3c21702c",
   "metadata": {},
   "outputs": [
    {
     "ename": "KeyboardInterrupt",
     "evalue": "",
     "output_type": "error",
     "traceback": [
      "\u001b[0;31m---------------------------------------------------------------------------\u001b[0m",
      "\u001b[0;31mKeyboardInterrupt\u001b[0m                         Traceback (most recent call last)",
      "\u001b[0;32m/tmp/ipykernel_2900/314518855.py\u001b[0m in \u001b[0;36m<module>\u001b[0;34m\u001b[0m\n\u001b[1;32m      1\u001b[0m \u001b[0mclassifier\u001b[0m \u001b[0;34m=\u001b[0m \u001b[0mRandomForestClassifier\u001b[0m\u001b[0;34m(\u001b[0m\u001b[0mn_estimators\u001b[0m\u001b[0;34m=\u001b[0m\u001b[0;36m10\u001b[0m\u001b[0;34m,\u001b[0m \u001b[0mcriterion\u001b[0m\u001b[0;34m=\u001b[0m\u001b[0;34m'entropy'\u001b[0m\u001b[0;34m,\u001b[0m \u001b[0mrandom_state\u001b[0m\u001b[0;34m=\u001b[0m\u001b[0;36m42\u001b[0m\u001b[0;34m)\u001b[0m\u001b[0;34m\u001b[0m\u001b[0;34m\u001b[0m\u001b[0m\n\u001b[0;32m----> 2\u001b[0;31m \u001b[0mclassifier\u001b[0m\u001b[0;34m.\u001b[0m\u001b[0mfit\u001b[0m\u001b[0;34m(\u001b[0m\u001b[0mx_train\u001b[0m\u001b[0;34m,\u001b[0m \u001b[0my_train\u001b[0m\u001b[0;34m)\u001b[0m\u001b[0;34m\u001b[0m\u001b[0;34m\u001b[0m\u001b[0m\n\u001b[0m",
      "\u001b[0;32m~/anaconda3/envs/dakota_py/lib/python3.7/site-packages/sklearn/ensemble/_forest.py\u001b[0m in \u001b[0;36mfit\u001b[0;34m(self, X, y, sample_weight)\u001b[0m\n\u001b[1;32m    465\u001b[0m                     \u001b[0mn_samples_bootstrap\u001b[0m\u001b[0;34m=\u001b[0m\u001b[0mn_samples_bootstrap\u001b[0m\u001b[0;34m,\u001b[0m\u001b[0;34m\u001b[0m\u001b[0;34m\u001b[0m\u001b[0m\n\u001b[1;32m    466\u001b[0m                 )\n\u001b[0;32m--> 467\u001b[0;31m                 \u001b[0;32mfor\u001b[0m \u001b[0mi\u001b[0m\u001b[0;34m,\u001b[0m \u001b[0mt\u001b[0m \u001b[0;32min\u001b[0m \u001b[0menumerate\u001b[0m\u001b[0;34m(\u001b[0m\u001b[0mtrees\u001b[0m\u001b[0;34m)\u001b[0m\u001b[0;34m\u001b[0m\u001b[0;34m\u001b[0m\u001b[0m\n\u001b[0m\u001b[1;32m    468\u001b[0m             )\n\u001b[1;32m    469\u001b[0m \u001b[0;34m\u001b[0m\u001b[0m\n",
      "\u001b[0;32m~/anaconda3/envs/dakota_py/lib/python3.7/site-packages/joblib/parallel.py\u001b[0m in \u001b[0;36m__call__\u001b[0;34m(self, iterable)\u001b[0m\n\u001b[1;32m   1044\u001b[0m                 \u001b[0mself\u001b[0m\u001b[0;34m.\u001b[0m\u001b[0m_iterating\u001b[0m \u001b[0;34m=\u001b[0m \u001b[0mself\u001b[0m\u001b[0;34m.\u001b[0m\u001b[0m_original_iterator\u001b[0m \u001b[0;32mis\u001b[0m \u001b[0;32mnot\u001b[0m \u001b[0;32mNone\u001b[0m\u001b[0;34m\u001b[0m\u001b[0;34m\u001b[0m\u001b[0m\n\u001b[1;32m   1045\u001b[0m \u001b[0;34m\u001b[0m\u001b[0m\n\u001b[0;32m-> 1046\u001b[0;31m             \u001b[0;32mwhile\u001b[0m \u001b[0mself\u001b[0m\u001b[0;34m.\u001b[0m\u001b[0mdispatch_one_batch\u001b[0m\u001b[0;34m(\u001b[0m\u001b[0miterator\u001b[0m\u001b[0;34m)\u001b[0m\u001b[0;34m:\u001b[0m\u001b[0;34m\u001b[0m\u001b[0;34m\u001b[0m\u001b[0m\n\u001b[0m\u001b[1;32m   1047\u001b[0m                 \u001b[0;32mpass\u001b[0m\u001b[0;34m\u001b[0m\u001b[0;34m\u001b[0m\u001b[0m\n\u001b[1;32m   1048\u001b[0m \u001b[0;34m\u001b[0m\u001b[0m\n",
      "\u001b[0;32m~/anaconda3/envs/dakota_py/lib/python3.7/site-packages/joblib/parallel.py\u001b[0m in \u001b[0;36mdispatch_one_batch\u001b[0;34m(self, iterator)\u001b[0m\n\u001b[1;32m    859\u001b[0m                 \u001b[0;32mreturn\u001b[0m \u001b[0;32mFalse\u001b[0m\u001b[0;34m\u001b[0m\u001b[0;34m\u001b[0m\u001b[0m\n\u001b[1;32m    860\u001b[0m             \u001b[0;32melse\u001b[0m\u001b[0;34m:\u001b[0m\u001b[0;34m\u001b[0m\u001b[0;34m\u001b[0m\u001b[0m\n\u001b[0;32m--> 861\u001b[0;31m                 \u001b[0mself\u001b[0m\u001b[0;34m.\u001b[0m\u001b[0m_dispatch\u001b[0m\u001b[0;34m(\u001b[0m\u001b[0mtasks\u001b[0m\u001b[0;34m)\u001b[0m\u001b[0;34m\u001b[0m\u001b[0;34m\u001b[0m\u001b[0m\n\u001b[0m\u001b[1;32m    862\u001b[0m                 \u001b[0;32mreturn\u001b[0m \u001b[0;32mTrue\u001b[0m\u001b[0;34m\u001b[0m\u001b[0;34m\u001b[0m\u001b[0m\n\u001b[1;32m    863\u001b[0m \u001b[0;34m\u001b[0m\u001b[0m\n",
      "\u001b[0;32m~/anaconda3/envs/dakota_py/lib/python3.7/site-packages/joblib/parallel.py\u001b[0m in \u001b[0;36m_dispatch\u001b[0;34m(self, batch)\u001b[0m\n\u001b[1;32m    777\u001b[0m         \u001b[0;32mwith\u001b[0m \u001b[0mself\u001b[0m\u001b[0;34m.\u001b[0m\u001b[0m_lock\u001b[0m\u001b[0;34m:\u001b[0m\u001b[0;34m\u001b[0m\u001b[0;34m\u001b[0m\u001b[0m\n\u001b[1;32m    778\u001b[0m             \u001b[0mjob_idx\u001b[0m \u001b[0;34m=\u001b[0m \u001b[0mlen\u001b[0m\u001b[0;34m(\u001b[0m\u001b[0mself\u001b[0m\u001b[0;34m.\u001b[0m\u001b[0m_jobs\u001b[0m\u001b[0;34m)\u001b[0m\u001b[0;34m\u001b[0m\u001b[0;34m\u001b[0m\u001b[0m\n\u001b[0;32m--> 779\u001b[0;31m             \u001b[0mjob\u001b[0m \u001b[0;34m=\u001b[0m \u001b[0mself\u001b[0m\u001b[0;34m.\u001b[0m\u001b[0m_backend\u001b[0m\u001b[0;34m.\u001b[0m\u001b[0mapply_async\u001b[0m\u001b[0;34m(\u001b[0m\u001b[0mbatch\u001b[0m\u001b[0;34m,\u001b[0m \u001b[0mcallback\u001b[0m\u001b[0;34m=\u001b[0m\u001b[0mcb\u001b[0m\u001b[0;34m)\u001b[0m\u001b[0;34m\u001b[0m\u001b[0;34m\u001b[0m\u001b[0m\n\u001b[0m\u001b[1;32m    780\u001b[0m             \u001b[0;31m# A job can complete so quickly than its callback is\u001b[0m\u001b[0;34m\u001b[0m\u001b[0;34m\u001b[0m\u001b[0;34m\u001b[0m\u001b[0m\n\u001b[1;32m    781\u001b[0m             \u001b[0;31m# called before we get here, causing self._jobs to\u001b[0m\u001b[0;34m\u001b[0m\u001b[0;34m\u001b[0m\u001b[0;34m\u001b[0m\u001b[0m\n",
      "\u001b[0;32m~/anaconda3/envs/dakota_py/lib/python3.7/site-packages/joblib/_parallel_backends.py\u001b[0m in \u001b[0;36mapply_async\u001b[0;34m(self, func, callback)\u001b[0m\n\u001b[1;32m    206\u001b[0m     \u001b[0;32mdef\u001b[0m \u001b[0mapply_async\u001b[0m\u001b[0;34m(\u001b[0m\u001b[0mself\u001b[0m\u001b[0;34m,\u001b[0m \u001b[0mfunc\u001b[0m\u001b[0;34m,\u001b[0m \u001b[0mcallback\u001b[0m\u001b[0;34m=\u001b[0m\u001b[0;32mNone\u001b[0m\u001b[0;34m)\u001b[0m\u001b[0;34m:\u001b[0m\u001b[0;34m\u001b[0m\u001b[0;34m\u001b[0m\u001b[0m\n\u001b[1;32m    207\u001b[0m         \u001b[0;34m\"\"\"Schedule a func to be run\"\"\"\u001b[0m\u001b[0;34m\u001b[0m\u001b[0;34m\u001b[0m\u001b[0m\n\u001b[0;32m--> 208\u001b[0;31m         \u001b[0mresult\u001b[0m \u001b[0;34m=\u001b[0m \u001b[0mImmediateResult\u001b[0m\u001b[0;34m(\u001b[0m\u001b[0mfunc\u001b[0m\u001b[0;34m)\u001b[0m\u001b[0;34m\u001b[0m\u001b[0;34m\u001b[0m\u001b[0m\n\u001b[0m\u001b[1;32m    209\u001b[0m         \u001b[0;32mif\u001b[0m \u001b[0mcallback\u001b[0m\u001b[0;34m:\u001b[0m\u001b[0;34m\u001b[0m\u001b[0;34m\u001b[0m\u001b[0m\n\u001b[1;32m    210\u001b[0m             \u001b[0mcallback\u001b[0m\u001b[0;34m(\u001b[0m\u001b[0mresult\u001b[0m\u001b[0;34m)\u001b[0m\u001b[0;34m\u001b[0m\u001b[0;34m\u001b[0m\u001b[0m\n",
      "\u001b[0;32m~/anaconda3/envs/dakota_py/lib/python3.7/site-packages/joblib/_parallel_backends.py\u001b[0m in \u001b[0;36m__init__\u001b[0;34m(self, batch)\u001b[0m\n\u001b[1;32m    570\u001b[0m         \u001b[0;31m# Don't delay the application, to avoid keeping the input\u001b[0m\u001b[0;34m\u001b[0m\u001b[0;34m\u001b[0m\u001b[0;34m\u001b[0m\u001b[0m\n\u001b[1;32m    571\u001b[0m         \u001b[0;31m# arguments in memory\u001b[0m\u001b[0;34m\u001b[0m\u001b[0;34m\u001b[0m\u001b[0;34m\u001b[0m\u001b[0m\n\u001b[0;32m--> 572\u001b[0;31m         \u001b[0mself\u001b[0m\u001b[0;34m.\u001b[0m\u001b[0mresults\u001b[0m \u001b[0;34m=\u001b[0m \u001b[0mbatch\u001b[0m\u001b[0;34m(\u001b[0m\u001b[0;34m)\u001b[0m\u001b[0;34m\u001b[0m\u001b[0;34m\u001b[0m\u001b[0m\n\u001b[0m\u001b[1;32m    573\u001b[0m \u001b[0;34m\u001b[0m\u001b[0m\n\u001b[1;32m    574\u001b[0m     \u001b[0;32mdef\u001b[0m \u001b[0mget\u001b[0m\u001b[0;34m(\u001b[0m\u001b[0mself\u001b[0m\u001b[0;34m)\u001b[0m\u001b[0;34m:\u001b[0m\u001b[0;34m\u001b[0m\u001b[0;34m\u001b[0m\u001b[0m\n",
      "\u001b[0;32m~/anaconda3/envs/dakota_py/lib/python3.7/site-packages/joblib/parallel.py\u001b[0m in \u001b[0;36m__call__\u001b[0;34m(self)\u001b[0m\n\u001b[1;32m    261\u001b[0m         \u001b[0;32mwith\u001b[0m \u001b[0mparallel_backend\u001b[0m\u001b[0;34m(\u001b[0m\u001b[0mself\u001b[0m\u001b[0;34m.\u001b[0m\u001b[0m_backend\u001b[0m\u001b[0;34m,\u001b[0m \u001b[0mn_jobs\u001b[0m\u001b[0;34m=\u001b[0m\u001b[0mself\u001b[0m\u001b[0;34m.\u001b[0m\u001b[0m_n_jobs\u001b[0m\u001b[0;34m)\u001b[0m\u001b[0;34m:\u001b[0m\u001b[0;34m\u001b[0m\u001b[0;34m\u001b[0m\u001b[0m\n\u001b[1;32m    262\u001b[0m             return [func(*args, **kwargs)\n\u001b[0;32m--> 263\u001b[0;31m                     for func, args, kwargs in self.items]\n\u001b[0m\u001b[1;32m    264\u001b[0m \u001b[0;34m\u001b[0m\u001b[0m\n\u001b[1;32m    265\u001b[0m     \u001b[0;32mdef\u001b[0m \u001b[0m__reduce__\u001b[0m\u001b[0;34m(\u001b[0m\u001b[0mself\u001b[0m\u001b[0;34m)\u001b[0m\u001b[0;34m:\u001b[0m\u001b[0;34m\u001b[0m\u001b[0;34m\u001b[0m\u001b[0m\n",
      "\u001b[0;32m~/anaconda3/envs/dakota_py/lib/python3.7/site-packages/joblib/parallel.py\u001b[0m in \u001b[0;36m<listcomp>\u001b[0;34m(.0)\u001b[0m\n\u001b[1;32m    261\u001b[0m         \u001b[0;32mwith\u001b[0m \u001b[0mparallel_backend\u001b[0m\u001b[0;34m(\u001b[0m\u001b[0mself\u001b[0m\u001b[0;34m.\u001b[0m\u001b[0m_backend\u001b[0m\u001b[0;34m,\u001b[0m \u001b[0mn_jobs\u001b[0m\u001b[0;34m=\u001b[0m\u001b[0mself\u001b[0m\u001b[0;34m.\u001b[0m\u001b[0m_n_jobs\u001b[0m\u001b[0;34m)\u001b[0m\u001b[0;34m:\u001b[0m\u001b[0;34m\u001b[0m\u001b[0;34m\u001b[0m\u001b[0m\n\u001b[1;32m    262\u001b[0m             return [func(*args, **kwargs)\n\u001b[0;32m--> 263\u001b[0;31m                     for func, args, kwargs in self.items]\n\u001b[0m\u001b[1;32m    264\u001b[0m \u001b[0;34m\u001b[0m\u001b[0m\n\u001b[1;32m    265\u001b[0m     \u001b[0;32mdef\u001b[0m \u001b[0m__reduce__\u001b[0m\u001b[0;34m(\u001b[0m\u001b[0mself\u001b[0m\u001b[0;34m)\u001b[0m\u001b[0;34m:\u001b[0m\u001b[0;34m\u001b[0m\u001b[0;34m\u001b[0m\u001b[0m\n",
      "\u001b[0;32m~/anaconda3/envs/dakota_py/lib/python3.7/site-packages/sklearn/utils/fixes.py\u001b[0m in \u001b[0;36m__call__\u001b[0;34m(self, *args, **kwargs)\u001b[0m\n\u001b[1;32m    214\u001b[0m     \u001b[0;32mdef\u001b[0m \u001b[0m__call__\u001b[0m\u001b[0;34m(\u001b[0m\u001b[0mself\u001b[0m\u001b[0;34m,\u001b[0m \u001b[0;34m*\u001b[0m\u001b[0margs\u001b[0m\u001b[0;34m,\u001b[0m \u001b[0;34m**\u001b[0m\u001b[0mkwargs\u001b[0m\u001b[0;34m)\u001b[0m\u001b[0;34m:\u001b[0m\u001b[0;34m\u001b[0m\u001b[0;34m\u001b[0m\u001b[0m\n\u001b[1;32m    215\u001b[0m         \u001b[0;32mwith\u001b[0m \u001b[0mconfig_context\u001b[0m\u001b[0;34m(\u001b[0m\u001b[0;34m**\u001b[0m\u001b[0mself\u001b[0m\u001b[0;34m.\u001b[0m\u001b[0mconfig\u001b[0m\u001b[0;34m)\u001b[0m\u001b[0;34m:\u001b[0m\u001b[0;34m\u001b[0m\u001b[0;34m\u001b[0m\u001b[0m\n\u001b[0;32m--> 216\u001b[0;31m             \u001b[0;32mreturn\u001b[0m \u001b[0mself\u001b[0m\u001b[0;34m.\u001b[0m\u001b[0mfunction\u001b[0m\u001b[0;34m(\u001b[0m\u001b[0;34m*\u001b[0m\u001b[0margs\u001b[0m\u001b[0;34m,\u001b[0m \u001b[0;34m**\u001b[0m\u001b[0mkwargs\u001b[0m\u001b[0;34m)\u001b[0m\u001b[0;34m\u001b[0m\u001b[0;34m\u001b[0m\u001b[0m\n\u001b[0m\u001b[1;32m    217\u001b[0m \u001b[0;34m\u001b[0m\u001b[0m\n\u001b[1;32m    218\u001b[0m \u001b[0;34m\u001b[0m\u001b[0m\n",
      "\u001b[0;32m~/anaconda3/envs/dakota_py/lib/python3.7/site-packages/sklearn/ensemble/_forest.py\u001b[0m in \u001b[0;36m_parallel_build_trees\u001b[0;34m(tree, forest, X, y, sample_weight, tree_idx, n_trees, verbose, class_weight, n_samples_bootstrap)\u001b[0m\n\u001b[1;32m    183\u001b[0m             \u001b[0mcurr_sample_weight\u001b[0m \u001b[0;34m*=\u001b[0m \u001b[0mcompute_sample_weight\u001b[0m\u001b[0;34m(\u001b[0m\u001b[0;34m\"balanced\"\u001b[0m\u001b[0;34m,\u001b[0m \u001b[0my\u001b[0m\u001b[0;34m,\u001b[0m \u001b[0mindices\u001b[0m\u001b[0;34m=\u001b[0m\u001b[0mindices\u001b[0m\u001b[0;34m)\u001b[0m\u001b[0;34m\u001b[0m\u001b[0;34m\u001b[0m\u001b[0m\n\u001b[1;32m    184\u001b[0m \u001b[0;34m\u001b[0m\u001b[0m\n\u001b[0;32m--> 185\u001b[0;31m         \u001b[0mtree\u001b[0m\u001b[0;34m.\u001b[0m\u001b[0mfit\u001b[0m\u001b[0;34m(\u001b[0m\u001b[0mX\u001b[0m\u001b[0;34m,\u001b[0m \u001b[0my\u001b[0m\u001b[0;34m,\u001b[0m \u001b[0msample_weight\u001b[0m\u001b[0;34m=\u001b[0m\u001b[0mcurr_sample_weight\u001b[0m\u001b[0;34m,\u001b[0m \u001b[0mcheck_input\u001b[0m\u001b[0;34m=\u001b[0m\u001b[0;32mFalse\u001b[0m\u001b[0;34m)\u001b[0m\u001b[0;34m\u001b[0m\u001b[0;34m\u001b[0m\u001b[0m\n\u001b[0m\u001b[1;32m    186\u001b[0m     \u001b[0;32melse\u001b[0m\u001b[0;34m:\u001b[0m\u001b[0;34m\u001b[0m\u001b[0;34m\u001b[0m\u001b[0m\n\u001b[1;32m    187\u001b[0m         \u001b[0mtree\u001b[0m\u001b[0;34m.\u001b[0m\u001b[0mfit\u001b[0m\u001b[0;34m(\u001b[0m\u001b[0mX\u001b[0m\u001b[0;34m,\u001b[0m \u001b[0my\u001b[0m\u001b[0;34m,\u001b[0m \u001b[0msample_weight\u001b[0m\u001b[0;34m=\u001b[0m\u001b[0msample_weight\u001b[0m\u001b[0;34m,\u001b[0m \u001b[0mcheck_input\u001b[0m\u001b[0;34m=\u001b[0m\u001b[0;32mFalse\u001b[0m\u001b[0;34m)\u001b[0m\u001b[0;34m\u001b[0m\u001b[0;34m\u001b[0m\u001b[0m\n",
      "\u001b[0;32m~/anaconda3/envs/dakota_py/lib/python3.7/site-packages/sklearn/tree/_classes.py\u001b[0m in \u001b[0;36mfit\u001b[0;34m(self, X, y, sample_weight, check_input, X_idx_sorted)\u001b[0m\n\u001b[1;32m    940\u001b[0m             \u001b[0msample_weight\u001b[0m\u001b[0;34m=\u001b[0m\u001b[0msample_weight\u001b[0m\u001b[0;34m,\u001b[0m\u001b[0;34m\u001b[0m\u001b[0;34m\u001b[0m\u001b[0m\n\u001b[1;32m    941\u001b[0m             \u001b[0mcheck_input\u001b[0m\u001b[0;34m=\u001b[0m\u001b[0mcheck_input\u001b[0m\u001b[0;34m,\u001b[0m\u001b[0;34m\u001b[0m\u001b[0;34m\u001b[0m\u001b[0m\n\u001b[0;32m--> 942\u001b[0;31m             \u001b[0mX_idx_sorted\u001b[0m\u001b[0;34m=\u001b[0m\u001b[0mX_idx_sorted\u001b[0m\u001b[0;34m,\u001b[0m\u001b[0;34m\u001b[0m\u001b[0;34m\u001b[0m\u001b[0m\n\u001b[0m\u001b[1;32m    943\u001b[0m         )\n\u001b[1;32m    944\u001b[0m         \u001b[0;32mreturn\u001b[0m \u001b[0mself\u001b[0m\u001b[0;34m\u001b[0m\u001b[0;34m\u001b[0m\u001b[0m\n",
      "\u001b[0;32m~/anaconda3/envs/dakota_py/lib/python3.7/site-packages/sklearn/tree/_classes.py\u001b[0m in \u001b[0;36mfit\u001b[0;34m(self, X, y, sample_weight, check_input, X_idx_sorted)\u001b[0m\n\u001b[1;32m    418\u001b[0m             )\n\u001b[1;32m    419\u001b[0m \u001b[0;34m\u001b[0m\u001b[0m\n\u001b[0;32m--> 420\u001b[0;31m         \u001b[0mbuilder\u001b[0m\u001b[0;34m.\u001b[0m\u001b[0mbuild\u001b[0m\u001b[0;34m(\u001b[0m\u001b[0mself\u001b[0m\u001b[0;34m.\u001b[0m\u001b[0mtree_\u001b[0m\u001b[0;34m,\u001b[0m \u001b[0mX\u001b[0m\u001b[0;34m,\u001b[0m \u001b[0my\u001b[0m\u001b[0;34m,\u001b[0m \u001b[0msample_weight\u001b[0m\u001b[0;34m)\u001b[0m\u001b[0;34m\u001b[0m\u001b[0;34m\u001b[0m\u001b[0m\n\u001b[0m\u001b[1;32m    421\u001b[0m \u001b[0;34m\u001b[0m\u001b[0m\n\u001b[1;32m    422\u001b[0m         \u001b[0;32mif\u001b[0m \u001b[0mself\u001b[0m\u001b[0;34m.\u001b[0m\u001b[0mn_outputs_\u001b[0m \u001b[0;34m==\u001b[0m \u001b[0;36m1\u001b[0m \u001b[0;32mand\u001b[0m \u001b[0mis_classifier\u001b[0m\u001b[0;34m(\u001b[0m\u001b[0mself\u001b[0m\u001b[0;34m)\u001b[0m\u001b[0;34m:\u001b[0m\u001b[0;34m\u001b[0m\u001b[0;34m\u001b[0m\u001b[0m\n",
      "\u001b[0;31mKeyboardInterrupt\u001b[0m: "
     ]
    }
   ],
   "source": [
    "classifier = RandomForestClassifier(n_estimators=10, criterion='entropy', random_state=42)\n",
    "classifier.fit(x_train, y_train)"
   ]
  },
  {
   "cell_type": "code",
   "execution_count": null,
   "id": "29bc7130",
   "metadata": {},
   "outputs": [],
   "source": [
    "y_pred = classifier.predict(x_test)"
   ]
  },
  {
   "cell_type": "code",
   "execution_count": 83,
   "id": "28c42320",
   "metadata": {},
   "outputs": [
    {
     "name": "stdout",
     "output_type": "stream",
     "text": [
      "0.5338773739194286\n",
      "0.43444477821167515\n"
     ]
    }
   ],
   "source": [
    "num_correct = 0\n",
    "for i in range(len(y_test)):\n",
    "    if y_pred[i] == y_test[i]:\n",
    "        num_correct += 1\n",
    "        \n",
    "print(num_correct / len(y_pred))\n",
    "print(sum(binary_country_list)/len(binary_country_list))"
   ]
  },
  {
   "cell_type": "markdown",
   "id": "5bf39710",
   "metadata": {},
   "source": [
    "# 1.1 Logistic Regression"
   ]
  },
  {
   "cell_type": "code",
   "execution_count": 98,
   "id": "a0589bcc",
   "metadata": {},
   "outputs": [
    {
     "name": "stdout",
     "output_type": "stream",
     "text": [
      "0.5658981676179032 0.5641834384700111\n"
     ]
    }
   ],
   "source": [
    "from sklearn.linear_model import LogisticRegression\n",
    "\n",
    "log_model = LogisticRegression(max_iter=1000000)\n",
    "log_model.fit(x_train, y_train)\n",
    "\n",
    "train_score = log_model.score(x_train, y_train)\n",
    "test_score = log_model.score(x_test, y_test)\n",
    "print(train_score, test_score)"
   ]
  },
  {
   "cell_type": "code",
   "execution_count": null,
   "id": "1ccc941f",
   "metadata": {},
   "outputs": [],
   "source": []
  }
 ],
 "metadata": {
  "kernelspec": {
   "display_name": "dakota_py",
   "language": "python",
   "name": "dakota_py"
  },
  "language_info": {
   "codemirror_mode": {
    "name": "ipython",
    "version": 3
   },
   "file_extension": ".py",
   "mimetype": "text/x-python",
   "name": "python",
   "nbconvert_exporter": "python",
   "pygments_lexer": "ipython3",
   "version": "3.7.13"
  }
 },
 "nbformat": 4,
 "nbformat_minor": 5
}
